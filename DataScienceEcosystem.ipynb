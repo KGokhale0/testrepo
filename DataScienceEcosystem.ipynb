{
 "cells": [
  {
   "cell_type": "markdown",
   "id": "616b2956-d15f-499c-8ff5-798f39639f83",
   "metadata": {},
   "source": [
    "# Data Science Tools and Ecosystem"
   ]
  },
  {
   "cell_type": "markdown",
   "id": "a2302b0c-8192-4cda-b14e-7ce752ef4685",
   "metadata": {},
   "source": [
    "In this notebook, Data Science Tools and Ecosystem are summarized."
   ]
  },
  {
   "cell_type": "markdown",
   "id": "a1f0366b-0383-4270-83f7-5aadf39aad65",
   "metadata": {},
   "source": [
    "Some of the popular languages that Data Scientists use are:\n",
    "1. Python\n",
    "2. VBA (visual basic for applications)\n",
    "3. SQL"
   ]
  },
  {
   "cell_type": "markdown",
   "id": "480b0bfb-a048-45e8-88f2-9b24cb5b3a7a",
   "metadata": {},
   "source": [
    "Some of the commonly used libraries used by Data Scientists include:\n",
    "1. NumPy\n",
    "2. Pandas\n",
    "3. SciPy"
   ]
  },
  {
   "cell_type": "markdown",
   "id": "5abe1fd2-d837-4a1f-acca-30ef3438042e",
   "metadata": {},
   "source": [
    "| Data Science Tools |"
   ]
  },
  {
   "cell_type": "markdown",
   "id": "d600eb52-c9fc-48af-aa24-f641456363dc",
   "metadata": {},
   "source": [
    "| Jupyter Notebook |\n",
    "\n",
    "| Pandas           |\n",
    "\n",
    "| Scikit-learn     |\n"
   ]
  },
  {
   "cell_type": "markdown",
   "id": "339d227d-3a65-4425-836b-578cd7a1a3bc",
   "metadata": {},
   "source": [
    "Below are a few examples of evaluating arithmetic expressions in Python."
   ]
  },
  {
   "cell_type": "markdown",
   "id": "815b6010-ca98-40cb-b9d2-42c29d1e5cae",
   "metadata": {},
   "source": [
    "This a simple arithmetic expression to mutiply then add integers"
   ]
  },
  {
   "cell_type": "code",
   "execution_count": 5,
   "id": "911dd295-c696-4d02-bc17-0a1f8b27dd84",
   "metadata": {
    "tags": []
   },
   "outputs": [
    {
     "data": {
      "text/plain": [
       "17"
      ]
     },
     "execution_count": 5,
     "metadata": {},
     "output_type": "execute_result"
    }
   ],
   "source": [
    "(3*4)+5"
   ]
  },
  {
   "cell_type": "markdown",
   "id": "bdd0c0e2-8a38-4a35-9448-57c05c62c76b",
   "metadata": {
    "tags": []
   },
   "source": [
    "This expression will convert 200 minutes to hours by diving by 60"
   ]
  },
  {
   "cell_type": "code",
   "execution_count": 10,
   "id": "4aa91649-0b7e-4940-874b-5f96c1ec7669",
   "metadata": {
    "tags": []
   },
   "outputs": [
    {
     "name": "stdout",
     "output_type": "stream",
     "text": [
      "3:20\n"
     ]
    }
   ],
   "source": [
    "total_minutes = 200\n",
    "hours = total_minutes // 60\n",
    "minutes = total_minutes % 60\n",
    "time = \"{}:{}\".format(hours, minutes)\n",
    "print(time)"
   ]
  },
  {
   "cell_type": "markdown",
   "id": "46e46362-fc33-4b46-803c-534ed24c51ad",
   "metadata": {},
   "source": [
    "**Objectives:**"
   ]
  },
  {
   "cell_type": "markdown",
   "id": "7596438c-8296-4774-8b56-668b5fa99141",
   "metadata": {
    "tags": []
   },
   "source": [
    "- List popular languages in data science\n",
    "- List commonly used libraries\n",
    "- practice creating a table\n",
    "    - Practice arthmetics\n",
    "    - Practice code cells"
   ]
  },
  {
   "cell_type": "markdown",
   "id": "fbeeb3ed-0971-4492-9c1c-bed2f3b7a33f",
   "metadata": {
    "tags": []
   },
   "source": [
    "## Author"
   ]
  },
  {
   "cell_type": "markdown",
   "id": "6d77568c-74aa-408c-9475-1a699acb2684",
   "metadata": {},
   "source": [
    "Kim G"
   ]
  },
  {
   "cell_type": "code",
   "execution_count": null,
   "id": "725e85cb-f197-40ca-81ba-1765bb4a5f5d",
   "metadata": {},
   "outputs": [],
   "source": []
  }
 ],
 "metadata": {
  "kernelspec": {
   "display_name": "Python",
   "language": "python",
   "name": "conda-env-python-py"
  },
  "language_info": {
   "codemirror_mode": {
    "name": "ipython",
    "version": 3
   },
   "file_extension": ".py",
   "mimetype": "text/x-python",
   "name": "python",
   "nbconvert_exporter": "python",
   "pygments_lexer": "ipython3",
   "version": "3.7.12"
  }
 },
 "nbformat": 4,
 "nbformat_minor": 5
}
